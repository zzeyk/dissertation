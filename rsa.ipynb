{
 "cells": [
  {
   "cell_type": "code",
   "execution_count": 15,
   "metadata": {},
   "outputs": [
    {
     "name": "stdout",
     "output_type": "stream",
     "text": [
      "Defaulting to user installation because normal site-packages is not writeable\n",
      "Collecting pandas\n",
      "  Downloading pandas-2.1.4-cp39-cp39-macosx_10_9_x86_64.whl (11.8 MB)\n",
      "\u001b[K     |████████████████████████████████| 11.8 MB 1.8 MB/s eta 0:00:01\n",
      "\u001b[?25hRequirement already satisfied: python-dateutil>=2.8.2 in /Users/zeynepkaya/Library/Python/3.9/lib/python/site-packages (from pandas) (2.8.2)\n",
      "Collecting pytz>=2020.1\n",
      "  Downloading pytz-2023.3.post1-py2.py3-none-any.whl (502 kB)\n",
      "\u001b[K     |████████████████████████████████| 502 kB 6.2 MB/s eta 0:00:01\n",
      "\u001b[?25hRequirement already satisfied: numpy<2,>=1.22.4 in /Users/zeynepkaya/Library/Python/3.9/lib/python/site-packages (from pandas) (1.26.2)\n",
      "Collecting tzdata>=2022.1\n",
      "  Downloading tzdata-2023.4-py2.py3-none-any.whl (346 kB)\n",
      "\u001b[K     |████████████████████████████████| 346 kB 3.8 MB/s eta 0:00:01\n",
      "\u001b[?25hRequirement already satisfied: six>=1.5 in /Library/Developer/CommandLineTools/Library/Frameworks/Python3.framework/Versions/3.9/lib/python3.9/site-packages (from python-dateutil>=2.8.2->pandas) (1.15.0)\n",
      "Installing collected packages: tzdata, pytz, pandas\n",
      "Successfully installed pandas-2.1.4 pytz-2023.3.post1 tzdata-2023.4\n",
      "\u001b[33mWARNING: You are using pip version 21.2.4; however, version 23.3.2 is available.\n",
      "You should consider upgrading via the '/Library/Developer/CommandLineTools/usr/bin/python3 -m pip install --upgrade pip' command.\u001b[0m\n",
      "Note: you may need to restart the kernel to use updated packages.\n"
     ]
    }
   ],
   "source": [
    "%pip install pandas"
   ]
  },
  {
   "cell_type": "code",
   "execution_count": 20,
   "metadata": {},
   "outputs": [
    {
     "data": {
      "text/html": [
       "\n",
       "        <iframe\n",
       "            width=\"560\"\n",
       "            height=\"315\"\n",
       "            src=\"https://www.youtube.com/embed/hOlOY7NyMfs?start=75&end=126\"\n",
       "            frameborder=\"0\"\n",
       "            allowfullscreen\n",
       "            \n",
       "        ></iframe>\n",
       "        "
      ],
      "text/plain": [
       "<IPython.lib.display.IFrame at 0x11443a190>"
      ]
     },
     "execution_count": 20,
     "metadata": {},
     "output_type": "execute_result"
    }
   ],
   "source": [
    "import numpy as np\n",
    "from qiskit import QuantumCircuit, Aer, execute\n",
    "from qiskit.tools.visualization import plot_histogram\n",
    "from qiskit import QuantumCircuit, Aer, transpile, assemble\n",
    "from qiskit.visualization import plot_histogram\n",
    "import math\n",
    "from math import gcd\n",
    "from numpy.random import randint\n",
    "import pandas as pd\n",
    "from fractions import Fraction\n",
    "import qiskit\n",
    "qiskit.__qiskit_version__\n",
    "from IPython.display import IFrame\n",
    "IFrame(\"https://www.youtube.com/embed/hOlOY7NyMfs?start=75&end=126\",560,315)"
   ]
  },
  {
   "cell_type": "code",
   "execution_count": 27,
   "metadata": {},
   "outputs": [],
   "source": [
    "# RSA parameters\n",
    "p = 11  # Choose two small primes\n",
    "q = 13\n",
    "N = p * q  # Compute modulus\n",
    "phi_N = (p - 1) * (q - 1)  # Compute Euler's totient function\n",
    "e = 7  # Choose a small public exponent\n",
    "d = 103  # Compute private exponent (d * e ≡ 1 (mod phi_N))\n"
   ]
  },
  {
   "cell_type": "code",
   "execution_count": 22,
   "metadata": {},
   "outputs": [],
   "source": [
    "def rsa_encrypt(plaintext, e, N):\n",
    "    return (plaintext ** e) % N\n",
    "\n",
    "def rsa_decrypt(ciphertext, d, N):\n",
    "    return (ciphertext ** d) % N\n"
   ]
  },
  {
   "cell_type": "code",
   "execution_count": 23,
   "metadata": {},
   "outputs": [],
   "source": [
    "# Brute force period finding algorithm\n",
    "def find_period_classical(x, N):\n",
    "    n = 1\n",
    "    t = x\n",
    "    while t != 1:\n",
    "        t *= x\n",
    "        t %= N\n",
    "        n += 1\n",
    "    return n"
   ]
  },
  {
   "cell_type": "code",
   "execution_count": 28,
   "metadata": {},
   "outputs": [
    {
     "name": "stdout",
     "output_type": "stream",
     "text": [
      "semiprime N = 97333\n"
     ]
    }
   ],
   "source": [
    "import random, itertools\n",
    "\n",
    "# Sieve of Eratosthenes algorithm\n",
    "def sieve( ):\n",
    "    D = {  }\n",
    "    yield 2\n",
    "    for q in itertools.islice(itertools.count(3), 0, None, 2):\n",
    "        p = D.pop(q, None)\n",
    "        if p is None:\n",
    "            D[q*q] = q\n",
    "            yield q\n",
    "        else:\n",
    "            x = p + q\n",
    "            while x in D or not (x&1):\n",
    "                x += p\n",
    "            D[x] = p\n",
    "\n",
    "# Creates a list of prime numbers up to the given argument\n",
    "def get_primes_sieve(n):\n",
    "    return list(itertools.takewhile(lambda p: p<n, sieve()))\n",
    "\n",
    "def get_semiprime(n):\n",
    "    primes = get_primes_sieve(n)\n",
    "    l = len(primes)\n",
    "    p = primes[random.randrange(l)]\n",
    "    q = primes[random.randrange(l)]\n",
    "    return p*q\n",
    "\n",
    "N = get_semiprime(1000)\n",
    "\n",
    "print(\"semiprime N =\",N)"
   ]
  },
  {
   "cell_type": "code",
   "execution_count": 29,
   "metadata": {},
   "outputs": [
    {
     "name": "stdout",
     "output_type": "stream",
     "text": [
      "semiprime N = 97333, coprime x = 63365, period r = 9646, prime factors = 131 and 743\n"
     ]
    }
   ],
   "source": [
    "import math\n",
    "\n",
    "def shors_algorithm_classical(N):\n",
    "    x = random.randint(0,N) # step one\n",
    "    if(math.gcd(x,N) != 1): # step two\n",
    "        return x,0,math.gcd(x,N),N/math.gcd(x,N)\n",
    "    r = find_period_classical(x,N) # step three\n",
    "    while(r % 2 != 0):\n",
    "        r = find_period_classical(x,N)\n",
    "    p = math.gcd(x**int(r/2)+1,N) # step four, ignoring the case where (x^(r/2) +/- 1) is a multiple of N\n",
    "    q = math.gcd(x**int(r/2)-1,N)\n",
    "    return x,r,p,q\n",
    "\n",
    "x,r,p,q = shors_algorithm_classical(N)\n",
    "print(\"semiprime N = \",N,\", coprime x = \",x,\", period r = \",r,\", prime factors = \",p,\" and \",q,sep=\"\")"
   ]
  },
  {
   "cell_type": "code",
   "execution_count": 26,
   "metadata": {},
   "outputs": [
    {
     "name": "stdout",
     "output_type": "stream",
     "text": [
      "Shor's algorithm did not find a factor. The key may be secure.\n",
      "None\n"
     ]
    }
   ],
   "source": [
    "# Simulate Shor's algorithm classically\n",
    "def shors_algorithm_classical(N):\n",
    "    a = 2  # Choose a random 'a'\n",
    "    \n",
    "    # Step 1: Compute the greatest common divisor (GCD) of 'a' and 'N'\n",
    "    gcd_value = math.gcd(a, N)\n",
    "\n",
    "    # If the GCD is not 1, then we found a non-trivial factor of N\n",
    "    if gcd_value != 1:\n",
    "        return gcd_value\n",
    "\n",
    "    # If the GCD is 1, simulate the quantum part by guessing 'r'\n",
    "    r_guess = 2  # Assume a successful guess\n",
    "    \n",
    "    # Step 2: Check if the guessed 'r' yields a non-trivial factor\n",
    "    x = pow(a, r_guess, N)\n",
    "    y = x - 1\n",
    "    factor_candidate = math.gcd(y, N)\n",
    "\n",
    "    if factor_candidate != 1 and factor_candidate != N:\n",
    "        return factor_candidate\n",
    "\n",
    "    # If no factor is found, the algorithm failed to factorize\n",
    "    return None\n",
    "\n",
    "# Simulate Shor's algorithm on RSA modulus N\n",
    "factorized_key = shors_algorithm_classical(N)\n",
    "\n",
    "if factorized_key:\n",
    "    print(f\"Factor found: {factorized_key}\")\n",
    "    print(\"Shor's algorithm successfully factored the RSA modulus.\")\n",
    "else:\n",
    "    print(\"Shor's algorithm did not find a factor. The key may be secure.\")\n",
    "    print(factorized_key)\n"
   ]
  },
  {
   "cell_type": "code",
   "execution_count": 32,
   "metadata": {},
   "outputs": [
    {
     "name": "stdout",
     "output_type": "stream",
     "text": [
      "Factor found: (139, 30, 11, 13)\n",
      "Shor's algorithm successfully factored the RSA modulus.\n"
     ]
    }
   ],
   "source": [
    "import math\n",
    "import random\n",
    "\n",
    "# RSA parameters\n",
    "p = 11  # Choose two small primes\n",
    "q = 13\n",
    "N = p * q  # Compute modulus\n",
    "phi_N = (p - 1) * (q - 1)  # Compute Euler's totient function\n",
    "e = 7  # Choose a small public exponent\n",
    "d = 103  # Compute private exponent (d * e ≡ 1 (mod phi_N))\n",
    "\n",
    "def rsa_encrypt(plaintext, e, N):\n",
    "    return (plaintext ** e) % N\n",
    "\n",
    "def rsa_decrypt(ciphertext, d, N):\n",
    "    return (ciphertext ** d) % N\n",
    "\n",
    "def shors_algorithm_classical(N):\n",
    "    x = random.randint(0, N)  # Step one\n",
    "    if math.gcd(x, N) != 1:  # Step two\n",
    "        return x, 0, math.gcd(x, N), N / math.gcd(x, N)\n",
    "    r = find_period_classical(x, N)  # Step three\n",
    "    while r % 2 != 0:\n",
    "        r = find_period_classical(x, N)\n",
    "    p = math.gcd(x ** int(r / 2) + 1, N)  # Step four, ignoring the case where (x^(r/2) +/- 1) is a multiple of N\n",
    "    q = math.gcd(x ** int(r / 2) - 1, N)\n",
    "    return x, r, p, q\n",
    "\n",
    "def find_period_classical(x, N):\n",
    "    n = 1\n",
    "    t = x\n",
    "    while t != 1:\n",
    "        t *= x\n",
    "        t %= N\n",
    "        n += 1\n",
    "    return n\n",
    "\n",
    "# Simulate Shor's algorithm on RSA modulus N\n",
    "factorized_key = shors_algorithm_classical(N)\n",
    "\n",
    "if factorized_key:\n",
    "    print(f\"Factor found: {factorized_key}\")\n",
    "    print(\"Shor's algorithm successfully factored the RSA modulus.\")\n",
    "else:\n",
    "    print(\"Shor's algorithm did not find a factor. The key may be secure.\")\n"
   ]
  },
  {
   "cell_type": "code",
   "execution_count": 5,
   "metadata": {},
   "outputs": [
    {
     "name": "stdout",
     "output_type": "stream",
     "text": [
      "The post-quantum algorithm is resilient to the quantum attack. No match found.\n"
     ]
    }
   ],
   "source": [
    "import hashlib\n",
    "\n",
    "# Simple hash-based post-quantum algorithm using Merkle tree\n",
    "def post_quantum_algorithm(data):\n",
    "    merkle_tree_root = hashlib.sha256(''.join(map(str, data)).encode()).hexdigest()\n",
    "    return merkle_tree_root\n",
    "\n",
    "# Simulate a quantum attack on the post-quantum algorithm\n",
    "def simulate_quantum_attack(data, target_hash):\n",
    "    for entry in data:\n",
    "        guess = hashlib.sha256(str(entry).encode()).hexdigest()\n",
    "        if guess == target_hash:\n",
    "            return entry\n",
    "    return None\n",
    "\n",
    "# Simulate post-quantum algorithm and quantum attack\n",
    "data_to_protect = [1, 2, 3, 4, 5]\n",
    "merkle_tree_root = post_quantum_algorithm(data_to_protect)\n",
    "\n",
    "quantum_attack_result = simulate_quantum_attack(data_to_protect, merkle_tree_root)\n",
    "\n",
    "# Evaluate the security of the post-quantum algorithm\n",
    "if quantum_attack_result is None:\n",
    "    print(\"The post-quantum algorithm is resilient to the quantum attack. No match found.\")\n",
    "else:\n",
    "    print(f\"The quantum attack successfully found a match: {quantum_attack_result}\")\n"
   ]
  }
 ],
 "metadata": {
  "kernelspec": {
   "display_name": "Python 3",
   "language": "python",
   "name": "python3"
  },
  "language_info": {
   "codemirror_mode": {
    "name": "ipython",
    "version": 3
   },
   "file_extension": ".py",
   "mimetype": "text/x-python",
   "name": "python",
   "nbconvert_exporter": "python",
   "pygments_lexer": "ipython3",
   "version": "3.9.6"
  }
 },
 "nbformat": 4,
 "nbformat_minor": 2
}
